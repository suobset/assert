{
 "cells": [
  {
   "cell_type": "code",
   "execution_count": 2,
   "id": "2c5324a8-9cb7-4be9-97ce-d6c01d13a3a7",
   "metadata": {},
   "outputs": [
    {
     "name": "stdout",
     "output_type": "stream",
     "text": [
      "Extracted ./data/EAGLE-I-20230928T215757Z-001.zip\n",
      "Extracted ./data/EAGLE-I-20230928T215757Z-002.zip\n",
      "Extracted ./data/EAGLE-I-20230928T215757Z-003.zip\n",
      "Extracted ./data/EAGLE-I-20230928T215757Z-004.zip\n",
      "Extracted ./data/ODIN-20230928T215912Z-001.zip\n",
      "Files in ./data have been unzipped\n"
     ]
    }
   ],
   "source": [
    "# A ScratchBook Created by me to explore TOP Data\n",
    "# Step 1: Get all data unzipped under ~/data\n",
    "import os\n",
    "import zipfile\n",
    "\n",
    "def unzip_files(directory):\n",
    "    for root, _, files in os.walk(directory):\n",
    "        for file in files:\n",
    "            if file.endswith(\".zip\"):\n",
    "                file_path = os.path.join(root, file)\n",
    "                try:\n",
    "                    if file.startswith(\"EAGLE\"):\n",
    "                        with zipfile.ZipFile(file_path, 'r') as zip_ref:\n",
    "                            zip_ref.extractall(root)\n",
    "                        print(f\"Extracted {file_path}\")\n",
    "                    elif file.startswith(\"ODIN\"):\n",
    "                        with zipfile.ZipFile(file_path, 'r') as zip_ref:\n",
    "                            zip_ref.extractall(root)\n",
    "                        print(f\"Extracted {file_path}\")\n",
    "                    else:\n",
    "                        print(\"This should not execute\")\n",
    "                except Exception as e:\n",
    "                    print(f\"Error extracting {file_path}: {e}\")\n",
    "\n",
    "if __name__ == \"__main__\":\n",
    "    target_directory = \"./data\"\n",
    "    if os.path.isdir(target_directory):\n",
    "        unzip_files(target_directory)\n",
    "        print(f\"Files in {target_directory} have been unzipped\")\n",
    "    else:\n",
    "        print(f\"The specified directory does not exist\")\n"
   ]
  },
  {
   "cell_type": "code",
   "execution_count": 4,
   "id": "f0dfbe08-3537-4783-bff4-86c87034a7b3",
   "metadata": {},
   "outputs": [],
   "source": [
    "import numpy as np\n",
    "import pandas as pd\n",
    "import geopandas as gpd\n",
    "from datetime import datetime\n",
    "import matplotlib.pyplot as plt\n",
    "import json"
   ]
  },
  {
   "cell_type": "code",
   "execution_count": 19,
   "id": "185b2841-4f63-44d3-b7db-8a58017213fe",
   "metadata": {},
   "outputs": [],
   "source": [
    "# Load all ODIN data values\n",
    "ODIN_county = pd.read_csv(\"./data/ODIN/odin_county_outage_data.csv\")\n",
    "ODIN_polygon = pd.read_csv(\"./data/ODIN/odin_polygon_outage_data.csv\")\n",
    "ODIN_zip = pd.read_csv(\"./data/ODIN/odin_zip_outage_data.csv\")"
   ]
  },
  {
   "cell_type": "code",
   "execution_count": 3,
   "id": "b3fedb11-51ff-4ae9-83fc-99f4d1bc451d",
   "metadata": {},
   "outputs": [
    {
     "data": {
      "text/plain": [
       "(Index(['reported_time', 'fips_county', 'meters_out', 'us_state'], dtype='object'),\n",
       " Index(['reported_time', 'geojson', 'meters_out', 'us_state'], dtype='object'),\n",
       " Index(['reported_time', 'zip_code', 'meters_out', 'us_state'], dtype='object'))"
      ]
     },
     "execution_count": 3,
     "metadata": {},
     "output_type": "execute_result"
    }
   ],
   "source": [
    "ODIN_county.columns, ODIN_polygon.columns, ODIN_zip.columns"
   ]
  },
  {
   "cell_type": "code",
   "execution_count": 4,
   "id": "e6e28863-40ee-404d-ba54-719f7e6dad66",
   "metadata": {},
   "outputs": [
    {
     "data": {
      "text/html": [
       "<div>\n",
       "<style scoped>\n",
       "    .dataframe tbody tr th:only-of-type {\n",
       "        vertical-align: middle;\n",
       "    }\n",
       "\n",
       "    .dataframe tbody tr th {\n",
       "        vertical-align: top;\n",
       "    }\n",
       "\n",
       "    .dataframe thead th {\n",
       "        text-align: right;\n",
       "    }\n",
       "</style>\n",
       "<table border=\"1\" class=\"dataframe\">\n",
       "  <thead>\n",
       "    <tr style=\"text-align: right;\">\n",
       "      <th></th>\n",
       "      <th>reported_time</th>\n",
       "      <th>geojson</th>\n",
       "      <th>meters_out</th>\n",
       "      <th>us_state</th>\n",
       "    </tr>\n",
       "  </thead>\n",
       "  <tbody>\n",
       "    <tr>\n",
       "      <th>0</th>\n",
       "      <td>2022-07-06 05:53:16.638+00</td>\n",
       "      <td>{\"type\":\"Polygon\",\"coordinates\":[[[-122.167300...</td>\n",
       "      <td>2</td>\n",
       "      <td>Washington</td>\n",
       "    </tr>\n",
       "    <tr>\n",
       "      <th>1</th>\n",
       "      <td>2022-09-26 09:50:13.384+00</td>\n",
       "      <td>{\"type\":\"Polygon\",\"coordinates\":[[[-121.336660...</td>\n",
       "      <td>5</td>\n",
       "      <td>Washington</td>\n",
       "    </tr>\n",
       "    <tr>\n",
       "      <th>2</th>\n",
       "      <td>2022-09-26 09:50:13.384+00</td>\n",
       "      <td>{\"type\":\"Polygon\",\"coordinates\":[[[-122.530725...</td>\n",
       "      <td>2</td>\n",
       "      <td>Washington</td>\n",
       "    </tr>\n",
       "    <tr>\n",
       "      <th>3</th>\n",
       "      <td>2022-09-26 09:50:13.384+00</td>\n",
       "      <td>{\"type\":\"Polygon\",\"coordinates\":[[[-122.634957...</td>\n",
       "      <td>5</td>\n",
       "      <td>Washington</td>\n",
       "    </tr>\n",
       "    <tr>\n",
       "      <th>4</th>\n",
       "      <td>2022-09-26 09:55:06.186+00</td>\n",
       "      <td>{\"type\":\"Polygon\",\"coordinates\":[[[-121.336660...</td>\n",
       "      <td>5</td>\n",
       "      <td>Washington</td>\n",
       "    </tr>\n",
       "    <tr>\n",
       "      <th>...</th>\n",
       "      <td>...</td>\n",
       "      <td>...</td>\n",
       "      <td>...</td>\n",
       "      <td>...</td>\n",
       "    </tr>\n",
       "    <tr>\n",
       "      <th>659885</th>\n",
       "      <td>2023-09-05 17:34:12.073+00</td>\n",
       "      <td>{\"type\":\"Polygon\",\"coordinates\":[[[-122.544762...</td>\n",
       "      <td>1</td>\n",
       "      <td>Washington</td>\n",
       "    </tr>\n",
       "    <tr>\n",
       "      <th>659886</th>\n",
       "      <td>2023-09-05 17:34:12.073+00</td>\n",
       "      <td>{\"type\":\"Polygon\",\"coordinates\":[[[-122.618902...</td>\n",
       "      <td>63</td>\n",
       "      <td>Washington</td>\n",
       "    </tr>\n",
       "    <tr>\n",
       "      <th>659887</th>\n",
       "      <td>2023-09-05 17:34:12.073+00</td>\n",
       "      <td>{\"type\":\"Polygon\",\"coordinates\":[[[-122.829829...</td>\n",
       "      <td>16</td>\n",
       "      <td>Washington</td>\n",
       "    </tr>\n",
       "    <tr>\n",
       "      <th>659888</th>\n",
       "      <td>2023-09-05 17:34:12.073+00</td>\n",
       "      <td>{\"type\":\"Polygon\",\"coordinates\":[[[-122.885263...</td>\n",
       "      <td>4</td>\n",
       "      <td>Washington</td>\n",
       "    </tr>\n",
       "    <tr>\n",
       "      <th>659889</th>\n",
       "      <td>2023-09-05 17:34:12.073+00</td>\n",
       "      <td>{\"type\":\"Polygon\",\"coordinates\":[[[-123.004870...</td>\n",
       "      <td>33</td>\n",
       "      <td>Washington</td>\n",
       "    </tr>\n",
       "  </tbody>\n",
       "</table>\n",
       "<p>659890 rows × 4 columns</p>\n",
       "</div>"
      ],
      "text/plain": [
       "                     reported_time  \\\n",
       "0       2022-07-06 05:53:16.638+00   \n",
       "1       2022-09-26 09:50:13.384+00   \n",
       "2       2022-09-26 09:50:13.384+00   \n",
       "3       2022-09-26 09:50:13.384+00   \n",
       "4       2022-09-26 09:55:06.186+00   \n",
       "...                            ...   \n",
       "659885  2023-09-05 17:34:12.073+00   \n",
       "659886  2023-09-05 17:34:12.073+00   \n",
       "659887  2023-09-05 17:34:12.073+00   \n",
       "659888  2023-09-05 17:34:12.073+00   \n",
       "659889  2023-09-05 17:34:12.073+00   \n",
       "\n",
       "                                                  geojson  meters_out  \\\n",
       "0       {\"type\":\"Polygon\",\"coordinates\":[[[-122.167300...           2   \n",
       "1       {\"type\":\"Polygon\",\"coordinates\":[[[-121.336660...           5   \n",
       "2       {\"type\":\"Polygon\",\"coordinates\":[[[-122.530725...           2   \n",
       "3       {\"type\":\"Polygon\",\"coordinates\":[[[-122.634957...           5   \n",
       "4       {\"type\":\"Polygon\",\"coordinates\":[[[-121.336660...           5   \n",
       "...                                                   ...         ...   \n",
       "659885  {\"type\":\"Polygon\",\"coordinates\":[[[-122.544762...           1   \n",
       "659886  {\"type\":\"Polygon\",\"coordinates\":[[[-122.618902...          63   \n",
       "659887  {\"type\":\"Polygon\",\"coordinates\":[[[-122.829829...          16   \n",
       "659888  {\"type\":\"Polygon\",\"coordinates\":[[[-122.885263...           4   \n",
       "659889  {\"type\":\"Polygon\",\"coordinates\":[[[-123.004870...          33   \n",
       "\n",
       "          us_state  \n",
       "0       Washington  \n",
       "1       Washington  \n",
       "2       Washington  \n",
       "3       Washington  \n",
       "4       Washington  \n",
       "...            ...  \n",
       "659885  Washington  \n",
       "659886  Washington  \n",
       "659887  Washington  \n",
       "659888  Washington  \n",
       "659889  Washington  \n",
       "\n",
       "[659890 rows x 4 columns]"
      ]
     },
     "execution_count": 4,
     "metadata": {},
     "output_type": "execute_result"
    }
   ],
   "source": [
    "ODIN_polygon"
   ]
  },
  {
   "cell_type": "code",
   "execution_count": 20,
   "id": "fd134cb8-8fdf-41a9-92dc-3f283684b6ee",
   "metadata": {},
   "outputs": [
    {
     "ename": "KeyError",
     "evalue": "'geometry'",
     "output_type": "error",
     "traceback": [
      "\u001b[0;31m---------------------------------------------------------------------------\u001b[0m",
      "\u001b[0;31mKeyError\u001b[0m                                  Traceback (most recent call last)",
      "\u001b[0;32m/tmp/ipykernel_20662/4288291667.py\u001b[0m in \u001b[0;36m<module>\u001b[0;34m\u001b[0m\n\u001b[1;32m     12\u001b[0m \u001b[0;31m# Create a GeoDataFrame for mapping GeoJSON\u001b[0m\u001b[0;34m\u001b[0m\u001b[0;34m\u001b[0m\u001b[0m\n\u001b[1;32m     13\u001b[0m \u001b[0;31m# outages_gdf = gpd.GeoDataFrame(ODIN_polygon, geometry=gpd.GeoSeries.from_wkt(ODIN_polygon['geojson']))\u001b[0m\u001b[0;34m\u001b[0m\u001b[0;34m\u001b[0m\u001b[0m\n\u001b[0;32m---> 14\u001b[0;31m \u001b[0moutages_gdf\u001b[0m \u001b[0;34m=\u001b[0m \u001b[0mgpd\u001b[0m\u001b[0;34m.\u001b[0m\u001b[0mGeoDataFrame\u001b[0m\u001b[0;34m.\u001b[0m\u001b[0mfrom_features\u001b[0m\u001b[0;34m(\u001b[0m\u001b[0mODIN_polygon\u001b[0m\u001b[0;34m.\u001b[0m\u001b[0mto_dict\u001b[0m\u001b[0;34m(\u001b[0m\u001b[0;34m'records'\u001b[0m\u001b[0;34m)\u001b[0m\u001b[0;34m)\u001b[0m\u001b[0;34m\u001b[0m\u001b[0;34m\u001b[0m\u001b[0m\n\u001b[0m",
      "\u001b[0;32m~/.local/lib/python3.10/site-packages/geopandas/geodataframe.py\u001b[0m in \u001b[0;36mfrom_features\u001b[0;34m(cls, features, crs, columns)\u001b[0m\n\u001b[1;32m    639\u001b[0m                 \u001b[0mfeature\u001b[0m \u001b[0;34m=\u001b[0m \u001b[0mfeature\u001b[0m\u001b[0;34m.\u001b[0m\u001b[0m__geo_interface__\u001b[0m\u001b[0;34m\u001b[0m\u001b[0;34m\u001b[0m\u001b[0m\n\u001b[1;32m    640\u001b[0m             row = {\n\u001b[0;32m--> 641\u001b[0;31m                 \u001b[0;34m\"geometry\"\u001b[0m\u001b[0;34m:\u001b[0m \u001b[0mshape\u001b[0m\u001b[0;34m(\u001b[0m\u001b[0mfeature\u001b[0m\u001b[0;34m[\u001b[0m\u001b[0;34m\"geometry\"\u001b[0m\u001b[0;34m]\u001b[0m\u001b[0;34m)\u001b[0m \u001b[0;32mif\u001b[0m \u001b[0mfeature\u001b[0m\u001b[0;34m[\u001b[0m\u001b[0;34m\"geometry\"\u001b[0m\u001b[0;34m]\u001b[0m \u001b[0;32melse\u001b[0m \u001b[0;32mNone\u001b[0m\u001b[0;34m\u001b[0m\u001b[0;34m\u001b[0m\u001b[0m\n\u001b[0m\u001b[1;32m    642\u001b[0m             }\n\u001b[1;32m    643\u001b[0m             \u001b[0;31m# load properties\u001b[0m\u001b[0;34m\u001b[0m\u001b[0;34m\u001b[0m\u001b[0m\n",
      "\u001b[0;31mKeyError\u001b[0m: 'geometry'"
     ]
    }
   ],
   "source": [
    "# Convert the reported_time to standard datetime\n",
    "ODIN_polygon['reported_time'] = pd.to_datetime(ODIN_polygon['reported_time'], format=\"ISO8601\")\n",
    "\n",
    "# Parse and modify the 'type' field in geojson\n",
    "for i in range(len(ODIN_polygon['geojson'])):\n",
    "    geojson_dict = json.loads(ODIN_polygon.at[i, 'geojson'])\n",
    "    geojson_dict['type'] = \"Polygons\"\n",
    "    ODIN_polygon.at[i, 'geojson'] = json.dumps(geojson_dict)\n",
    "\n",
    "ODIN_polygon['geojson'] = ODIN_polygon['geojson']#.apply(json.loads)\n",
    "\n",
    "# Create a GeoDataFrame for mapping GeoJSON\n",
    "# outages_gdf = gpd.GeoDataFrame(ODIN_polygon, geometry=gpd.GeoSeries.from_wkt(ODIN_polygon['geojson']))\n",
    "outages_gdf = gpd.GeoDataFrame.from_features(ODIN_polygon.to_dict('records'))"
   ]
  },
  {
   "cell_type": "code",
   "execution_count": 14,
   "id": "67a62fd5",
   "metadata": {},
   "outputs": [
    {
     "data": {
      "text/html": [
       "<div>\n",
       "<style scoped>\n",
       "    .dataframe tbody tr th:only-of-type {\n",
       "        vertical-align: middle;\n",
       "    }\n",
       "\n",
       "    .dataframe tbody tr th {\n",
       "        vertical-align: top;\n",
       "    }\n",
       "\n",
       "    .dataframe thead th {\n",
       "        text-align: right;\n",
       "    }\n",
       "</style>\n",
       "<table border=\"1\" class=\"dataframe\">\n",
       "  <thead>\n",
       "    <tr style=\"text-align: right;\">\n",
       "      <th></th>\n",
       "      <th>reported_time</th>\n",
       "      <th>geojson</th>\n",
       "      <th>meters_out</th>\n",
       "      <th>us_state</th>\n",
       "    </tr>\n",
       "  </thead>\n",
       "  <tbody>\n",
       "    <tr>\n",
       "      <th>0</th>\n",
       "      <td>2022-07-06 05:53:16.638000+00:00</td>\n",
       "      <td>{\"type\": \"Polygons\", \"coordinates\": [[[-122.16...</td>\n",
       "      <td>2</td>\n",
       "      <td>Washington</td>\n",
       "    </tr>\n",
       "    <tr>\n",
       "      <th>1</th>\n",
       "      <td>2022-09-26 09:50:13.384000+00:00</td>\n",
       "      <td>{\"type\": \"Polygons\", \"coordinates\": [[[-121.33...</td>\n",
       "      <td>5</td>\n",
       "      <td>Washington</td>\n",
       "    </tr>\n",
       "    <tr>\n",
       "      <th>2</th>\n",
       "      <td>2022-09-26 09:50:13.384000+00:00</td>\n",
       "      <td>{\"type\": \"Polygons\", \"coordinates\": [[[-122.53...</td>\n",
       "      <td>2</td>\n",
       "      <td>Washington</td>\n",
       "    </tr>\n",
       "    <tr>\n",
       "      <th>3</th>\n",
       "      <td>2022-09-26 09:50:13.384000+00:00</td>\n",
       "      <td>{\"type\": \"Polygons\", \"coordinates\": [[[-122.63...</td>\n",
       "      <td>5</td>\n",
       "      <td>Washington</td>\n",
       "    </tr>\n",
       "    <tr>\n",
       "      <th>4</th>\n",
       "      <td>2022-09-26 09:55:06.186000+00:00</td>\n",
       "      <td>{\"type\": \"Polygons\", \"coordinates\": [[[-121.33...</td>\n",
       "      <td>5</td>\n",
       "      <td>Washington</td>\n",
       "    </tr>\n",
       "    <tr>\n",
       "      <th>...</th>\n",
       "      <td>...</td>\n",
       "      <td>...</td>\n",
       "      <td>...</td>\n",
       "      <td>...</td>\n",
       "    </tr>\n",
       "    <tr>\n",
       "      <th>659885</th>\n",
       "      <td>2023-09-05 17:34:12.073000+00:00</td>\n",
       "      <td>{\"type\": \"Polygons\", \"coordinates\": [[[-122.54...</td>\n",
       "      <td>1</td>\n",
       "      <td>Washington</td>\n",
       "    </tr>\n",
       "    <tr>\n",
       "      <th>659886</th>\n",
       "      <td>2023-09-05 17:34:12.073000+00:00</td>\n",
       "      <td>{\"type\": \"Polygons\", \"coordinates\": [[[-122.61...</td>\n",
       "      <td>63</td>\n",
       "      <td>Washington</td>\n",
       "    </tr>\n",
       "    <tr>\n",
       "      <th>659887</th>\n",
       "      <td>2023-09-05 17:34:12.073000+00:00</td>\n",
       "      <td>{\"type\": \"Polygons\", \"coordinates\": [[[-122.82...</td>\n",
       "      <td>16</td>\n",
       "      <td>Washington</td>\n",
       "    </tr>\n",
       "    <tr>\n",
       "      <th>659888</th>\n",
       "      <td>2023-09-05 17:34:12.073000+00:00</td>\n",
       "      <td>{\"type\": \"Polygons\", \"coordinates\": [[[-122.88...</td>\n",
       "      <td>4</td>\n",
       "      <td>Washington</td>\n",
       "    </tr>\n",
       "    <tr>\n",
       "      <th>659889</th>\n",
       "      <td>2023-09-05 17:34:12.073000+00:00</td>\n",
       "      <td>{\"type\": \"Polygons\", \"coordinates\": [[[-123.00...</td>\n",
       "      <td>33</td>\n",
       "      <td>Washington</td>\n",
       "    </tr>\n",
       "  </tbody>\n",
       "</table>\n",
       "<p>659890 rows × 4 columns</p>\n",
       "</div>"
      ],
      "text/plain": [
       "                          reported_time  \\\n",
       "0      2022-07-06 05:53:16.638000+00:00   \n",
       "1      2022-09-26 09:50:13.384000+00:00   \n",
       "2      2022-09-26 09:50:13.384000+00:00   \n",
       "3      2022-09-26 09:50:13.384000+00:00   \n",
       "4      2022-09-26 09:55:06.186000+00:00   \n",
       "...                                 ...   \n",
       "659885 2023-09-05 17:34:12.073000+00:00   \n",
       "659886 2023-09-05 17:34:12.073000+00:00   \n",
       "659887 2023-09-05 17:34:12.073000+00:00   \n",
       "659888 2023-09-05 17:34:12.073000+00:00   \n",
       "659889 2023-09-05 17:34:12.073000+00:00   \n",
       "\n",
       "                                                  geojson  meters_out  \\\n",
       "0       {\"type\": \"Polygons\", \"coordinates\": [[[-122.16...           2   \n",
       "1       {\"type\": \"Polygons\", \"coordinates\": [[[-121.33...           5   \n",
       "2       {\"type\": \"Polygons\", \"coordinates\": [[[-122.53...           2   \n",
       "3       {\"type\": \"Polygons\", \"coordinates\": [[[-122.63...           5   \n",
       "4       {\"type\": \"Polygons\", \"coordinates\": [[[-121.33...           5   \n",
       "...                                                   ...         ...   \n",
       "659885  {\"type\": \"Polygons\", \"coordinates\": [[[-122.54...           1   \n",
       "659886  {\"type\": \"Polygons\", \"coordinates\": [[[-122.61...          63   \n",
       "659887  {\"type\": \"Polygons\", \"coordinates\": [[[-122.82...          16   \n",
       "659888  {\"type\": \"Polygons\", \"coordinates\": [[[-122.88...           4   \n",
       "659889  {\"type\": \"Polygons\", \"coordinates\": [[[-123.00...          33   \n",
       "\n",
       "          us_state  \n",
       "0       Washington  \n",
       "1       Washington  \n",
       "2       Washington  \n",
       "3       Washington  \n",
       "4       Washington  \n",
       "...            ...  \n",
       "659885  Washington  \n",
       "659886  Washington  \n",
       "659887  Washington  \n",
       "659888  Washington  \n",
       "659889  Washington  \n",
       "\n",
       "[659890 rows x 4 columns]"
      ]
     },
     "execution_count": 14,
     "metadata": {},
     "output_type": "execute_result"
    }
   ],
   "source": [
    "ODIN_polygon"
   ]
  },
  {
   "cell_type": "markdown",
   "id": "2bf59aaa-f649-41ba-bb2e-1b3382c7739f",
   "metadata": {},
   "source": [
    "## End ODIN"
   ]
  },
  {
   "cell_type": "code",
   "execution_count": 5,
   "id": "16e54147-03e2-48a6-bc89-7e852c6bba48",
   "metadata": {},
   "outputs": [],
   "source": [
    "EAGLE_coverageHistory = pd.read_csv('./data/EAGLE-I/coverage_history.csv')\n",
    "EAGLE_outages2020 = pd.read_csv('./data/EAGLE-I/eaglei_outages_2020.csv')"
   ]
  },
  {
   "cell_type": "code",
   "execution_count": 6,
   "id": "cf3ea021-c8e1-4f39-8283-3f204c8cd464",
   "metadata": {},
   "outputs": [],
   "source": [
    "cdc_socialVulnerability2020 = pd.read_csv('./data/5-CDC-Social-Vulnerability/svi_interactive_map.csv')"
   ]
  },
  {
   "cell_type": "code",
   "execution_count": 7,
   "id": "b9e9c023-51a1-48c1-be13-cae8ea10f06f",
   "metadata": {},
   "outputs": [
    {
     "data": {
      "text/plain": [
       "Index(['fips_code', 'county', 'state', 'customers_out', 'run_start_time'], dtype='object')"
      ]
     },
     "execution_count": 7,
     "metadata": {},
     "output_type": "execute_result"
    }
   ],
   "source": [
    "EAGLE_outages2020.columns"
   ]
  },
  {
   "cell_type": "code",
   "execution_count": 8,
   "id": "91705d4f-d8c6-4fd7-840f-d46aa1fac086",
   "metadata": {},
   "outputs": [
    {
     "data": {
      "text/plain": [
       "Index(['GEO LEVEL', 'GEO COMPARISON', 'YEAR', 'GEO UNIT', 'ST', 'STATE',\n",
       "       'ST_ABBR', 'STCNTY', 'COUNTY', 'FIPS',\n",
       "       ...\n",
       "       'EP_ASIAN', 'MP_ASIAN', 'EP_AIAN', 'MP_AIAN', 'EP_NHPI', 'MP_NHPI',\n",
       "       'EP_TWOMORE', 'MP_TWOMORE', 'EP_OTHERRACE', 'MP_OTHERRACE'],\n",
       "      dtype='object', length=160)"
      ]
     },
     "execution_count": 8,
     "metadata": {},
     "output_type": "execute_result"
    }
   ],
   "source": [
    "cdc_socialVulnerability2020.columns"
   ]
  },
  {
   "cell_type": "code",
   "execution_count": null,
   "id": "eed475e8-602c-4dbd-b1d8-42fa64bfa810",
   "metadata": {},
   "outputs": [],
   "source": [
    "cdc_eagle_fips = EAGLE_outages2020.merge(cdc_socialVulnerability2020, left_on='fips_code', right_on='FIPS', how='inner')"
   ]
  },
  {
   "cell_type": "code",
   "execution_count": null,
   "id": "85f8c43d",
   "metadata": {},
   "outputs": [],
   "source": []
  }
 ],
 "metadata": {
  "kernelspec": {
   "display_name": "Python 3 (ipykernel)",
   "language": "python",
   "name": "python3"
  },
  "language_info": {
   "codemirror_mode": {
    "name": "ipython",
    "version": 3
   },
   "file_extension": ".py",
   "mimetype": "text/x-python",
   "name": "python",
   "nbconvert_exporter": "python",
   "pygments_lexer": "ipython3",
   "version": "3.10.12"
  }
 },
 "nbformat": 4,
 "nbformat_minor": 5
}
