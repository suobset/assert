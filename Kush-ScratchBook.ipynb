{
 "cells": [
  {
   "cell_type": "code",
   "execution_count": 2,
   "id": "2c5324a8-9cb7-4be9-97ce-d6c01d13a3a7",
   "metadata": {},
   "outputs": [
    {
     "name": "stdout",
     "output_type": "stream",
     "text": [
      "Extracted ./data/EAGLE-I-20230928T215757Z-001.zip\n",
      "Extracted ./data/EAGLE-I-20230928T215757Z-002.zip\n",
      "Extracted ./data/EAGLE-I-20230928T215757Z-003.zip\n",
      "Extracted ./data/EAGLE-I-20230928T215757Z-004.zip\n",
      "Extracted ./data/ODIN-20230928T215912Z-001.zip\n",
      "Files in ./data have been unzipped\n"
     ]
    }
   ],
   "source": [
    "# A ScratchBook Created by me to explore TOP Data\n",
    "# Step 1: Get all data unzipped under ~/data\n",
    "import os\n",
    "import zipfile\n",
    "\n",
    "def unzip_files(directory):\n",
    "    for root, _, files in os.walk(directory):\n",
    "        for file in files:\n",
    "            if file.endswith(\".zip\"):\n",
    "                file_path = os.path.join(root, file)\n",
    "                try:\n",
    "                    if file.startswith(\"EAGLE\"):\n",
    "                        with zipfile.ZipFile(file_path, 'r') as zip_ref:\n",
    "                            zip_ref.extractall(root)\n",
    "                        print(f\"Extracted {file_path}\")\n",
    "                    elif file.startswith(\"ODIN\"):\n",
    "                        with zipfile.ZipFile(file_path, 'r') as zip_ref:\n",
    "                            zip_ref.extractall(root)\n",
    "                        print(f\"Extracted {file_path}\")\n",
    "                    else:\n",
    "                        print(\"This should not execute\")\n",
    "                except Exception as e:\n",
    "                    print(f\"Error extracting {file_path}: {e}\")\n",
    "\n",
    "if __name__ == \"__main__\":\n",
    "    target_directory = \"./data\"\n",
    "    if os.path.isdir(target_directory):\n",
    "        unzip_files(target_directory)\n",
    "        print(f\"Files in {target_directory} have been unzipped\")\n",
    "    else:\n",
    "        print(f\"The specified directory does not exist\")\n"
   ]
  },
  {
   "cell_type": "code",
   "execution_count": null,
   "id": "f0dfbe08-3537-4783-bff4-86c87034a7b3",
   "metadata": {},
   "outputs": [],
   "source": []
  }
 ],
 "metadata": {
  "kernelspec": {
   "display_name": "Python 3 (ipykernel)",
   "language": "python",
   "name": "python3"
  },
  "language_info": {
   "codemirror_mode": {
    "name": "ipython",
    "version": 3
   },
   "file_extension": ".py",
   "mimetype": "text/x-python",
   "name": "python",
   "nbconvert_exporter": "python",
   "pygments_lexer": "ipython3",
   "version": "3.10.12"
  }
 },
 "nbformat": 4,
 "nbformat_minor": 5
}
