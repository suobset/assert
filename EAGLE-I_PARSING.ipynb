{
 "cells": [
  {
   "cell_type": "code",
   "execution_count": null,
   "id": "9db3fe13-c6a5-49e6-8453-a1c8d33d10a5",
   "metadata": {
    "scrolled": true
   },
   "outputs": [
    {
     "name": "stdout",
     "output_type": "stream",
     "text": [
      "2014\n"
     ]
    }
   ],
   "source": [
    "import pandas\n",
    "import urllib.request, json \n",
    "import plot_utils as pu\n",
    "\n",
    "for year in range(2014,2023):\n",
    "    print(str(year))\n",
    "    path = \"data/2023 TOP Uni DOE Data/EAGLE-I/eaglei_outages_\" + str(year) + \".csv\"\n",
    "    f = dict()\n",
    "    df = pandas.read_csv(path)\n",
    "    for i in df.iterrows():\n",
    "        lookup = dict(map(lambda x: [x[0], \" \".join(x[1:])] if len(x) > 2 else x, list(map(lambda x: list(filter(None, x.split(\" \"))), str(i[1]).split(\"\\n\")))[0:4]))\n",
    "        if len(lookup['fips_code']) == 4:\n",
    "            lookup['fips_code'] = '0'+lookup['fips_code']\n",
    "        #print(lookup)\n",
    "        f[lookup['fips_code']] = int(lookup['customers_out'])\n",
    "    \n",
    "    pu.choropleth_map_county(f,\n",
    "        map_title='Outages per county in ' + str(year),\n",
    "        unit='Outages',\n",
    "        vmax=3000, dpi=80, fontsize=16,cmap='cool',\n",
    "    );"
   ]
  },
  {
   "cell_type": "code",
   "execution_count": null,
   "id": "47d49f31-6e5e-499c-8fb0-6b65ddeb05a3",
   "metadata": {},
   "outputs": [],
   "source": [
    "!sudo apt-get install libgeos-dev"
   ]
  },
  {
   "cell_type": "code",
   "execution_count": 16,
   "id": "dd6e9c36-8fc2-465a-ba2b-2ae3513e8d7b",
   "metadata": {
    "scrolled": true
   },
   "outputs": [
    {
     "name": "stdout",
     "output_type": "stream",
     "text": [
      "Defaulting to user installation because normal site-packages is not writeable\n",
      "Collecting basemap\n",
      "  Downloading basemap-1.3.8-cp310-cp310-manylinux1_x86_64.whl (860 kB)\n",
      "\u001b[2K     \u001b[90m━━━━━━━━━━━━━━━━━━━━━━━━━━━━━━━━━━━━━━━\u001b[0m \u001b[32m860.7/860.7 KB\u001b[0m \u001b[31m3.9 MB/s\u001b[0m eta \u001b[36m0:00:00\u001b[0m00:01\u001b[0m00:01\u001b[0m\n",
      "\u001b[?25hRequirement already satisfied: pyproj<3.7.0,>=1.9.3 in /home/anvitha/.local/lib/python3.10/site-packages (from basemap) (3.6.1)\n",
      "Requirement already satisfied: numpy<1.26,>=1.21 in /home/anvitha/.local/lib/python3.10/site-packages (from basemap) (1.24.3)\n",
      "Requirement already satisfied: matplotlib<3.8,>=1.5 in /home/anvitha/.local/lib/python3.10/site-packages (from basemap) (3.7.2)\n",
      "Collecting basemap-data<1.4,>=1.3.2\n",
      "  Downloading basemap_data-1.3.2-py2.py3-none-any.whl (30.5 MB)\n",
      "\u001b[2K     \u001b[90m━━━━━━━━━━━━━━━━━━━━━━━━━━━━━━━━━━━━━━━━\u001b[0m \u001b[32m30.5/30.5 MB\u001b[0m \u001b[31m6.6 MB/s\u001b[0m eta \u001b[36m0:00:00\u001b[0m00:01\u001b[0m00:01\u001b[0mm\n",
      "\u001b[?25hRequirement already satisfied: pyshp<2.4,>=1.2 in /home/anvitha/.local/lib/python3.10/site-packages (from basemap) (1.2.10)\n",
      "Requirement already satisfied: packaging>=20.0 in /home/anvitha/.local/lib/python3.10/site-packages (from matplotlib<3.8,>=1.5->basemap) (23.1)\n",
      "Requirement already satisfied: pillow>=6.2.0 in /home/anvitha/.local/lib/python3.10/site-packages (from matplotlib<3.8,>=1.5->basemap) (8.4.0)\n",
      "Requirement already satisfied: fonttools>=4.22.0 in /home/anvitha/.local/lib/python3.10/site-packages (from matplotlib<3.8,>=1.5->basemap) (4.41.1)\n",
      "Requirement already satisfied: python-dateutil>=2.7 in /home/anvitha/.local/lib/python3.10/site-packages (from matplotlib<3.8,>=1.5->basemap) (2.8.2)\n",
      "Requirement already satisfied: pyparsing<3.1,>=2.3.1 in /usr/lib/python3/dist-packages (from matplotlib<3.8,>=1.5->basemap) (2.4.7)\n",
      "Requirement already satisfied: kiwisolver>=1.0.1 in /home/anvitha/.local/lib/python3.10/site-packages (from matplotlib<3.8,>=1.5->basemap) (1.4.4)\n",
      "Requirement already satisfied: cycler>=0.10 in /home/anvitha/.local/lib/python3.10/site-packages (from matplotlib<3.8,>=1.5->basemap) (0.10.0)\n",
      "Requirement already satisfied: contourpy>=1.0.1 in /home/anvitha/.local/lib/python3.10/site-packages (from matplotlib<3.8,>=1.5->basemap) (1.1.0)\n",
      "Requirement already satisfied: certifi in /home/anvitha/.local/lib/python3.10/site-packages (from pyproj<3.7.0,>=1.9.3->basemap) (2022.12.7)\n",
      "Requirement already satisfied: six in /usr/lib/python3/dist-packages (from cycler>=0.10->matplotlib<3.8,>=1.5->basemap) (1.16.0)\n",
      "Installing collected packages: basemap-data, basemap\n",
      "Successfully installed basemap-1.3.8 basemap-data-1.3.2\n"
     ]
    }
   ],
   "source": [
    "!pip install basemap"
   ]
  }
 ],
 "metadata": {
  "kernelspec": {
   "display_name": "Python 3 (ipykernel)",
   "language": "python",
   "name": "python3"
  },
  "language_info": {
   "codemirror_mode": {
    "name": "ipython",
    "version": 3
   },
   "file_extension": ".py",
   "mimetype": "text/x-python",
   "name": "python",
   "nbconvert_exporter": "python",
   "pygments_lexer": "ipython3",
   "version": "3.10.12"
  }
 },
 "nbformat": 4,
 "nbformat_minor": 5
}
