{
 "cells": [
  {
   "cell_type": "code",
   "execution_count": null,
   "id": "9db3fe13-c6a5-49e6-8453-a1c8d33d10a5",
   "metadata": {
    "scrolled": true
   },
   "outputs": [
   ],
   "source": [
    "import pandas\n",
    "import urllib.request, json \n",
    "import plot_utils as pu\n",
    "\n",
    "for year in range(2014,2023):\n",
    "    print(str(year))\n",
    "    path = \"data/2023 TOP Uni DOE Data/EAGLE-I/eaglei_outages_\" + str(year) + \".csv\"\n",
    "    f = dict()\n",
    "    df = pandas.read_csv(path)\n",
    "    for i in df.iterrows():\n",
    "        lookup = dict(map(lambda x: [x[0], \" \".join(x[1:])] if len(x) > 2 else x, list(map(lambda x: list(filter(None, x.split(\" \"))), str(i[1]).split(\"\\n\")))[0:4]))\n",
    "        if len(lookup['fips_code']) == 4:\n",
    "            lookup['fips_code'] = '0'+lookup['fips_code']\n",
    "        #print(lookup)\n",
    "        f[lookup['fips_code']] = int(lookup['customers_out'])\n",
    "    \n",
    "    pu.choropleth_map_county(f,\n",
    "        map_title='Outages per county in ' + str(year),\n",
    "        unit='Outages',\n",
    "        vmax=3000, dpi=80, fontsize=16,cmap='cool',\n",
    "    );"
   ]
  },
  {
   "cell_type": "code",
   "execution_count": null,
   "id": "47d49f31-6e5e-499c-8fb0-6b65ddeb05a3",
   "metadata": {},
   "outputs": [],
   "source": [
    "!sudo apt-get install libgeos-dev"
   ]
  },
  {
   "cell_type": "code",
   "execution_count": 16,
   "id": "dd6e9c36-8fc2-465a-ba2b-2ae3513e8d7b",
   "metadata": {
    "scrolled": true
   },
   "outputs": [],
   "source": [
    "!pip install basemap"
   ]
  }
 ],
 "metadata": {
  "kernelspec": {
   "display_name": "Python 3 (ipykernel)",
   "language": "python",
   "name": "python3"
  },
  "language_info": {
   "codemirror_mode": {
    "name": "ipython",
    "version": 3
   },
   "file_extension": ".py",
   "mimetype": "text/x-python",
   "name": "python",
   "nbconvert_exporter": "python",
   "pygments_lexer": "ipython3",
   "version": "3.10.12"
  }
 },
 "nbformat": 4,
 "nbformat_minor": 5
}
