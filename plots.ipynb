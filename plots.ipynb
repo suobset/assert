{
 "cells": [
  {
   "cell_type": "markdown",
   "id": "89d22733-41fe-48b1-8e32-9444775ab94f",
   "metadata": {},
   "source": [
    "# Plotting indicators for SVI data"
   ]
  },
  {
   "cell_type": "markdown",
   "id": "e5752b65-b217-445c-9bd3-8e1a45059881",
   "metadata": {},
   "source": [
    "## Imports"
   ]
  },
  {
   "cell_type": "code",
   "execution_count": 4,
   "id": "6e8e29e2-4245-4e22-a440-68859bffd4af",
   "metadata": {},
   "outputs": [],
   "source": [
    "import numpy as np\n",
    "import pandas as pd\n",
    "import matplotlib.pyplot as plt\n",
    "from sklearn.preprocessing import scale \n",
    "from sklearn import model_selection\n",
    "from sklearn.model_selection import train_test_split\n",
    "from sklearn.decomposition import PCA\n",
    "from sklearn.linear_model import LinearRegression\n",
    "from sklearn.metrics import mean_squared_error, classification_report, r2_score, mean_absolute_percentage_error\n",
    "from scipy import stats\n"
   ]
  },
  {
   "cell_type": "markdown",
   "id": "b488f648-fcff-41b5-a3ff-678ce6a25724",
   "metadata": {},
   "source": [
    "## Read and filter the data, based on the kept columns Jose suggested"
   ]
  },
  {
   "cell_type": "code",
   "execution_count": 7,
   "id": "44708332-1caa-4b13-828b-91501675211b",
   "metadata": {
    "scrolled": true
   },
   "outputs": [],
   "source": [
    "# SVI Filtered Indicators for performing the PCA on Minnesota\n",
    "df = pd.read_csv(\"p-value_filtered_SVI.csv\")\n",
    "\n",
    "# get the y values of f-values and weighted f-values from the data\n",
    "fvalues = df.get(\"F.values\")\n",
    "# \n",
    "wfvalues = df.get(\"Weighted.f.values\")\n",
    "\n",
    "# get values for SVI and f-values for the interactive map\n",
    "df2 = pd.read_csv(\"svi_interactive_map.csv\")\n",
    "testfvalues = pd.read_csv(\"Filtered_F_Values.csv\")\n",
    "\n",
    "\n",
    "fipsmerge = df2.merge(testfvalues, on='FIPS', how='outer').drop(columns=\"Unnamed: 0\").dropna(subset=['F_VALUE'])\n",
    "Minn = fipsmerge[fipsmerge['STATE'] == 'Minnesota']\n",
    "fips= fipsmerge[\"FIPS\"].apply(str)\n",
    "fips = pd.DataFrame([s.zfill(5) for s in fips])\n",
    "fips = fips.rename(columns={0: \"FIPS\"})\n",
    "testfvalues = fipsmerge.get(\"F_VALUE\")\n",
    "fipsmerge.drop(columns=[\"F_VALUE\"])\n",
    "# drop these columns, as they aren't part of the PCA but rather the outputs for regression\n",
    "df = df.drop(columns=[\"F.values\", \"Weighted.f.values\"])\n",
    "\n",
    "# Keeping the columns that Jose mentioned for our analysis\n",
    "keep = [\"E_HH\", \"EP_POV150\", \"E_NOHSDP\", \"E_UNINSUR\", \"EP_MINRTY\", \"E_SNGPNT\", \"E_GROUPQ\", \"EP_MUNIT\", \"E_UNEMP\", \"E_DISABL\", \"E_TOTPOP\", \"E_AGE65\",\"E_AGE17\", \"E_LIMENG\", \"E_CROWD\", \"E_NOVEH\", \"E_DAYPOP\" , \"E_NOINT\"]\n",
    "keeploc = [\"E_HH\", \"EP_POV150\", \"E_NOHSDP\", \"E_UNINSUR\", \"EP_MINRTY\", \"E_SNGPNT\", \"E_GROUPQ\", \"EP_MUNIT\", \"E_UNEMP\", \"E_DISABL\", \"E_TOTPOP\", \"E_AGE65\",\"E_AGE17\", \"E_LIMENG\", \"E_CROWD\", \"E_NOVEH\", \"E_DAYPOP\" , \"E_NOINT\"]\n",
    "\n",
    "# Minnesota information so that we can run plots for indicators, etc.\n",
    "minn_f = Minn[\"F_VALUE\"]\n",
    "Minn = Minn.drop(columns=[\"F_VALUE\"])\n",
    "\n",
    "# Use these as stored \n",
    "kept = df[keep]\n",
    "all_kept = fipsmerge[keep]"
   ]
  },
  {
   "cell_type": "code",
   "execution_count": null,
   "id": "0d1d65f8-a516-4697-8374-c27454d1e0a0",
   "metadata": {},
   "outputs": [],
   "source": [
    "thres = 84.46\n",
    "components = \"kept\""
   ]
  },
  {
   "cell_type": "markdown",
   "id": "4b94c455-50d9-4bd9-a1ed-43d0859a097c",
   "metadata": {},
   "source": [
    "## Constructing the Linear Regression model from the threshold amount, to get the eigenvalues used for calculating the components."
   ]
  },
  {
   "cell_type": "code",
   "execution_count": null,
   "id": "723b0d9b-747c-4fff-bb15-f1011c693f83",
   "metadata": {
    "scrolled": true
   },
   "outputs": [],
   "source": [
    "if components == \"kept\":\n",
    "    data = kept\n",
    "    expl_var = expl_var_kept\n",
    "else: \n",
    "    data = df\n",
    "    expl_var = expl_var_all\n",
    "print(data[\"E_UNEMP\"])\n",
    "num_components = 0\n",
    "for i in range(len(expl_var)):\n",
    "    if expl_var[i] >= thres:\n",
    "        num_components = i+1\n",
    "        break\n",
    "if num_components == 0:\n",
    "    num_components = len(expl_var)\n",
    "#print (\"Labels for the components: \" + str(list(data.columns)))\n",
    "#print(\"Number of components based on threshold (>=\"+str(thres)+\"%): \"+str(num_components))\n",
    "pca = PCA(num_components)\n",
    "X_train = pca.fit_transform(scale(data))\n",
    "#print(X_train)\n",
    "\n",
    "ranked = sorted(zip(list(data.columns), pca.components_.tolist()[0]), key=lambda x: abs(x[1]))\n",
    "print(\"Ranked labels of VSIs based on eigenvectors associated with the components constructed for the component analysis:\")\n",
    "print([j[0] for j in ranked][::-1])\n",
    "print(\"The eigenvalues: \" + str(sorted(pca.components_.tolist()[0], key=lambda x: abs(x))[::-1]))"
   ]
  },
  {
   "cell_type": "markdown",
   "id": "aa3bb4e3-0300-41db-ba75-bb3e37813848",
   "metadata": {},
   "source": [
    "## Gabby you can edit these to get predicted f-values and test f-values"
   ]
  },
  {
   "cell_type": "code",
   "execution_count": 8,
   "id": "60fb427d-28b8-4972-a742-91a385296d41",
   "metadata": {
    "scrolled": true
   },
   "outputs": [
    {
     "name": "stdout",
     "output_type": "stream",
     "text": [
      "R^2: -0.5805977329279455\n",
      "RMSE: 1.2572182519069415\n",
      "MAPE: 11.157887581186671\n",
      "      EP_MINRTY\n",
      "1315        6.3\n",
      "1317       14.4\n",
      "1318       28.4\n",
      "1319       11.1\n",
      "1320        3.8\n",
      "...         ...\n",
      "1395       11.0\n",
      "1396       18.3\n",
      "1398        7.1\n",
      "1399        9.1\n",
      "1400        8.2\n",
      "\n",
      "[72 rows x 1 columns]\n",
      "1315   -0.002853\n",
      "1317    0.074415\n",
      "1318    0.111405\n",
      "1319   -0.005113\n",
      "1320    0.002779\n",
      "          ...   \n",
      "1395   -0.008140\n",
      "1396   -0.038467\n",
      "1398    0.000929\n",
      "1399    0.012733\n",
      "1400   -0.050212\n",
      "Name: F_VALUE, Length: 72, dtype: float64\n"
     ]
    },
    {
     "name": "stderr",
     "output_type": "stream",
     "text": [
      "/home/anvitha/.local/lib/python3.10/site-packages/sklearn/base.py:458: UserWarning: X has feature names, but LinearRegression was fitted without feature names\n",
      "  warnings.warn(\n"
     ]
    },
    {
     "data": {
      "text/plain": [
       "[<matplotlib.lines.Line2D at 0x7f905e529660>]"
      ]
     },
     "execution_count": 8,
     "metadata": {},
     "output_type": "execute_result"
    },
    {
     "data": {
      "image/png": "[encoded data removed]",
      "text/plain": [
       "<Figure size 640x480 with 1 Axes>"
      ]
     },
     "metadata": {},
     "output_type": "display_data"
    }
   ],
   "source": [
    "#train PCR model on training data \"E_UNEMP\",\"EP_MINRTY\",, \"E_UNEMP\", \"EP_POV150\"\n",
    "indicators = [\"EP_MINRTY\"]\n",
    "\n",
    "## finding the indicators for minnesota based on the filtered ones \n",
    "X1 = Minn[indicators]\n",
    "\n",
    "# Training set for linear regression\n",
    "train = X1\n",
    "\n",
    "regr1 = LinearRegression()\n",
    "\n",
    "# scaling data before running linreg because PCA used scaled data?\n",
    "regr1.fit(scale(train), scale(minn_f))\n",
    "\n",
    "# actual f-values for minnesota\n",
    "testfvalues = scale(minn_f)\n",
    "\n",
    "# predicted values based on regression\n",
    "predfvalues = scale(regr1.predict(train))\n",
    "\n",
    "\n",
    "# correlation indicators:\n",
    "print(\"R^2: \" + str(r2_score(scale(testfvalues),predfvalues)))\n",
    "#calculate RMSE\n",
    "print(\"RMSE: \" + str(np.sqrt(mean_squared_error(testfvalues, predfvalues))))\n",
    "# calculate MAPE\n",
    "print(\"MAPE: \" + str(mean_absolute_percentage_error(testfvalues, predfvalues)))\n",
    "\n",
    "#sanity checking data\n",
    "#print(X1)\n",
    "#print(minn_f)\n",
    "plt.scatter(scale(X1), scale(testfvalues), color=\"black\")\n",
    "plt.plot(scale(X1), scale(predfvalues), color=\"blue\")\n",
    "#plt.plot(scale(np.array(keptfipsmerge[indicators])), scale(predfvalues), color=\"red\")\n"
   ]
  },
  {
   "cell_type": "markdown",
   "id": "66800bab-a4ac-45c3-b3ce-77d91b80e09f",
   "metadata": {},
   "source": []
  },
  {
   "cell_type": "code",
   "execution_count": null,
   "id": "220c578e-9369-4881-8ca0-898215c36101",
   "metadata": {
    "scrolled": true
   },
   "outputs": [],
   "source": [
    "print(\"predicted range: \"+ str() + \" \" + str(max(predfvalues)))\n",
    "print(\"actual range: \"+ str(min(testfvalues)) + \" \" + str(max(testfvalues)))\n",
    "predfvalues = scale(predfvalues)\n",
    "testfvalues = scale(testfvalues)\n",
    "from scipy.interpolate import interp1d\n",
    "rangepred = interp1d([min(predfvalues),max(predfvalues)],[-10,10])\n",
    "rangetest = interp1d([min(testfvalues),max(testfvalues)],[-10,10])\n",
    "print(pd.DataFrame(testfvalues).apply(lambda x: rangetest(x)))\n",
    "\n",
    "testf = pd.DataFrame()\n",
    "testf['FIPS'] = fips\n",
    "testf['F-VALUES'] = pd.DataFrame(testfvalues).apply(lambda x: rangetest(x))\n",
    "predf = pd.DataFrame()\n",
    "predf['FIPS'] = fips\n",
    "predf['F-VALUES'] =pd.DataFrame(predfvalues).apply(lambda x: rangepred(x))\n",
    "print(testf)\n",
    "print(predf)\n",
    "testf.to_csv(\"actual_odin.csv\", index=False)\n",
    "predf.to_csv(\"predicted_odin_all.csv\", index=False)\n"
   ]
  },
  {
   "cell_type": "code",
   "execution_count": null,
   "id": "4456b1bd-afc2-4cef-8685-68d09edf48c8",
   "metadata": {
    "scrolled": true
   },
   "outputs": [],
   "source": [
    "\n"
   ]
  }
 ],
 "metadata": {
  "kernelspec": {
   "display_name": "Python 3 (ipykernel)",
   "language": "python",
   "name": "python3"
  },
  "language_info": {
   "codemirror_mode": {
    "name": "ipython",
    "version": 3
   },
   "file_extension": ".py",
   "mimetype": "text/x-python",
   "name": "python",
   "nbconvert_exporter": "python",
   "pygments_lexer": "ipython3",
   "version": "3.10.12"
  }
 },
 "nbformat": 4,
 "nbformat_minor": 5
}
