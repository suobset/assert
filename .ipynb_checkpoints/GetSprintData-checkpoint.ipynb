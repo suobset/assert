{
 "nbformat": 4,
 "nbformat_minor": 0,
 "metadata": {
  "colab": {
   "provenance": [],
   "authorship_tag": "ABX9TyNlx31oNuA14MlHcgfHNapw"
  },
  "kernelspec": {
   "name": "python3",
   "language": "python",
   "display_name": "Python 3 (ipykernel)"
  },
  "language_info": {
   "name": "python"
  }
 },
 "cells": [
  {
   "cell_type": "markdown",
   "source": [
    "**iCons UMass DOE**\n",
    "\n",
    "Add the 2023 TOP Uni DOE Data from [here](https://drive.google.com/drive/folders/1ZHCzAn3t5xTxM0WFfl023fRXhmtinHAl?usp=drive_link) to your drive as a shortcut, then run this script to get the data!\n",
    "\n",
    "*Warning, this takes awhile because of how much data the folder stores.*"
   ],
   "metadata": {
    "id": "97g2gJMp4Z13"
   }
  },
  {
   "cell_type": "code",
   "execution_count": 1,
   "metadata": {
    "id": "BfFaGnPhvk0s",
    "ExecuteTime": {
     "end_time": "2023-09-23T19:05:55.899191487Z",
     "start_time": "2023-09-23T19:05:55.790096088Z"
    }
   },
   "outputs": [
    {
     "ename": "ModuleNotFoundError",
     "evalue": "No module named 'google.colab'",
     "output_type": "error",
     "traceback": [
      "\u001B[0;31m---------------------------------------------------------------------------\u001B[0m",
      "\u001B[0;31mModuleNotFoundError\u001B[0m                       Traceback (most recent call last)",
      "Cell \u001B[0;32mIn[1], line 1\u001B[0m\n\u001B[0;32m----> 1\u001B[0m \u001B[38;5;28;01mfrom\u001B[39;00m \u001B[38;5;21;01mgoogle\u001B[39;00m\u001B[38;5;21;01m.\u001B[39;00m\u001B[38;5;21;01mcolab\u001B[39;00m \u001B[38;5;28;01mimport\u001B[39;00m files, drive\n\u001B[1;32m      2\u001B[0m drive\u001B[38;5;241m.\u001B[39mmount(\u001B[38;5;124m'\u001B[39m\u001B[38;5;124m/content/drive\u001B[39m\u001B[38;5;124m'\u001B[39m, force_remount\u001B[38;5;241m=\u001B[39m\u001B[38;5;28;01mFalse\u001B[39;00m)\n\u001B[1;32m      3\u001B[0m files\u001B[38;5;241m.\u001B[39mdownload(\u001B[38;5;124m'\u001B[39m\u001B[38;5;124m/content/drive/MyDrive/2023 TOP Uni DOE Data\u001B[39m\u001B[38;5;124m'\u001B[39m)\n",
      "\u001B[0;31mModuleNotFoundError\u001B[0m: No module named 'google.colab'"
     ]
    }
   ],
   "source": [
    "\n",
    "from google.colab import files, drive\n",
    "drive.mount('/content/drive', force_remount=False)\n",
    "files.download('/content/drive/MyDrive/2023 TOP Uni DOE Data')"
   ]
  },
  {
   "cell_type": "code",
   "source": [],
   "metadata": {
    "id": "HMYRSd2pyxVL"
   },
   "execution_count": null,
   "outputs": []
  }
 ]
}
